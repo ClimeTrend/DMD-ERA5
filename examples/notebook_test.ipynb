{
 "cells": [
  {
   "cell_type": "code",
   "execution_count": 1,
   "metadata": {},
   "outputs": [
    {
     "name": "stderr",
     "output_type": "stream",
     "text": [
      "2024-10-17 17:10:31,993 - ConfigReader - INFO - Parameters in era5-download section: [('source_path', '\"gs://gcp-public-data-arco-era5/ar/1959-2022-full_37-1h-0p25deg-chunk-1.zarr-v2\"'), ('start_date', '\"2019-01-01\"'), ('start_time', '\"00:00:00\"'), ('end_date', '\"2019-01-02\"'), ('end_time', '\"00:00:00\"'), ('delta_time', '\"1h\"'), ('variables', '\"all\"'), ('levels', '\"1000\"'), ('save_name', '\"\"')]\n"
     ]
    }
   ],
   "source": [
    "%load_ext autoreload\n",
    "%autoreload 2\n",
    "\n",
    "from dmd_era5 import config_reader\n"
   ]
  },
  {
   "cell_type": "code",
   "execution_count": 2,
   "metadata": {},
   "outputs": [
    {
     "name": "stderr",
     "output_type": "stream",
     "text": [
      "2024-10-17 17:10:54,539 - ConfigReader - INFO - Parameters in era5-download section: [('source_path', '\"gs://gcp-public-data-arco-era5/ar/1959-2022-full_37-1h-0p25deg-chunk-1.zarr-v2\"'), ('start_date', '\"2019-01-01\"'), ('start_time', '\"00:00:00\"'), ('end_date', '\"2019-01-02\"'), ('end_time', '\"00:00:00\"'), ('delta_time', '\"1h\"'), ('variables', '\"all\"'), ('levels', '\"1000\"'), ('save_name', '\"\"')]\n"
     ]
    }
   ],
   "source": [
    "config = config_reader(\"era5-download\")"
   ]
  }
 ],
 "metadata": {
  "kernelspec": {
   "display_name": "venv",
   "language": "python",
   "name": "python3"
  },
  "language_info": {
   "codemirror_mode": {
    "name": "ipython",
    "version": 3
   },
   "file_extension": ".py",
   "mimetype": "text/x-python",
   "name": "python",
   "nbconvert_exporter": "python",
   "pygments_lexer": "ipython3",
   "version": "3.12.4"
  }
 },
 "nbformat": 4,
 "nbformat_minor": 2
}
