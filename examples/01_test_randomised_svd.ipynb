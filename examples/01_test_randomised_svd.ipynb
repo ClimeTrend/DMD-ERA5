{
 "cells": [
  {
   "cell_type": "markdown",
   "metadata": {},
   "source": [
    "### Randomised SVD\n",
    "\n",
    "We will explore randomized svd here from the scikit-learn library on a test dataset\n",
    "\n",
    "`sklearn.utils.extmath.randomized_svd(M, n_components, *, n_oversamples=10, n_iter='auto', power_iteration_normalizer='auto', transpose='auto', flip_sign=True, random_state=None, svd_lapack_driver='gesdd')`"
   ]
  },
  {
   "cell_type": "code",
   "execution_count": 11,
   "metadata": {},
   "outputs": [],
   "source": [
    "import numpy as np\n",
    "import matplotlib.pyplot as plt\n",
    "from sklearn.utils.extmath import randomized_svd\n",
    "\n",
    "import time\n",
    "\n",
    "from signal_generator import SignalGenerator"
   ]
  },
  {
   "cell_type": "code",
   "execution_count": 8,
   "metadata": {},
   "outputs": [],
   "source": [
    "# generate a large signal from signal_generator.py (see dmd-toy-dataset branch)\n",
    "\n",
    "signal_generator = SignalGenerator(x_min=-10, x_max=10, nx=500, nt=1000, t_max=1000)\n",
    "signal_generator.add_sinusoid1(a=2, omega=0.5, k=1.5)\n",
    "signal_generator.add_sinusoid2(a=3, omega=2.5, c=1.5, k=0.5)\n",
    "signal_generator.add_sinusoid2(a=3, omega=5, c=-1.5, k=0.5)\n",
    "signal_generator.add_noise(random_seed=42)"
   ]
  },
  {
   "cell_type": "code",
   "execution_count": 9,
   "metadata": {},
   "outputs": [
    {
     "name": "stdout",
     "output_type": "stream",
     "text": [
      "Signal shape: (1000, 500)\n",
      "Time-vector shape: (1000,)\n",
      "Spatial-vector shape: (500,)\n"
     ]
    }
   ],
   "source": [
    "print(f\"Signal shape: {signal_generator.signal.shape}\")\n",
    "print(f\"Time-vector shape: {signal_generator.t.shape}\")\n",
    "print(f\"Spatial-vector shape: {signal_generator.x.shape}\")"
   ]
  },
  {
   "cell_type": "code",
   "execution_count": 14,
   "metadata": {},
   "outputs": [
    {
     "data": {
      "text/plain": [
       "0.6222829818725586"
      ]
     },
     "execution_count": 14,
     "metadata": {},
     "output_type": "execute_result"
    }
   ],
   "source": [
    "# try numpy first with its straight svd, then try sklearn's randomized_svd function\n",
    "\n",
    "start_time_np = time.time()\n",
    "U, s, V = np.linalg.svd(signal_generator.signal.T, full_matrices=False)  # this signal needs to be tranposed, this switches U with V \n",
    "end_time_np = time.time()\n",
    "\n",
    "elapsed_time_np = end_time_np - start_time_np\n",
    "elapsed_time_np"
   ]
  },
  {
   "cell_type": "code",
   "execution_count": 15,
   "metadata": {},
   "outputs": [
    {
     "name": "stdout",
     "output_type": "stream",
     "text": [
      "U (500, 500)\n",
      "s (500,)\n",
      "V (500, 1000)\n"
     ]
    }
   ],
   "source": [
    "print(f\"U {U.shape}\")\n",
    "print(f\"s {s.shape}\")\n",
    "print(f\"V {V.shape}\")"
   ]
  },
  {
   "cell_type": "markdown",
   "metadata": {},
   "source": [
    "Similarly, try randomised SVD"
   ]
  },
  {
   "cell_type": "code",
   "execution_count": 16,
   "metadata": {},
   "outputs": [
    {
     "data": {
      "text/plain": [
       "1.0482869148254395"
      ]
     },
     "execution_count": 16,
     "metadata": {},
     "output_type": "execute_result"
    }
   ],
   "source": [
    "start_time_sk = time.time()\n",
    "\n",
    "U2, s2, V2 = randomized_svd(signal_generator.signal.T, n_components=10) # try 10, this should explain most of the variance\n",
    "\n",
    "end_time_sk = time.time()\n",
    "\n",
    "elapsed_time_sk = end_time_sk - start_time_sk\n",
    "elapsed_time_sk"
   ]
  },
  {
   "cell_type": "code",
   "execution_count": 17,
   "metadata": {},
   "outputs": [
    {
     "name": "stdout",
     "output_type": "stream",
     "text": [
      "U (500, 10)\n",
      "s (10,)\n",
      "V (10, 1000)\n"
     ]
    }
   ],
   "source": [
    "print(f\"U {U2.shape}\")\n",
    "print(f\"s {s2.shape}\")\n",
    "print(f\"V {V2.shape}\")"
   ]
  },
  {
   "cell_type": "markdown",
   "metadata": {},
   "source": [
    "try larger matrices"
   ]
  },
  {
   "cell_type": "code",
   "execution_count": 32,
   "metadata": {},
   "outputs": [],
   "source": [
    "signal_generator = SignalGenerator(x_min=-10, x_max=10, nx=2500, nt=2000, t_max=1000)\n",
    "signal_generator.add_sinusoid1(a=2, omega=0.5, k=1.5)\n",
    "signal_generator.add_sinusoid2(a=3, omega=2.5, c=1.5, k=0.5)\n",
    "signal_generator.add_sinusoid2(a=3, omega=5, c=-1.5, k=0.5)\n",
    "signal_generator.add_noise(random_seed=42)\n"
   ]
  },
  {
   "cell_type": "code",
   "execution_count": 33,
   "metadata": {},
   "outputs": [
    {
     "name": "stdout",
     "output_type": "stream",
     "text": [
      "Signal shape: (2000, 2500)\n",
      "Time-vector shape: (2000,)\n",
      "Spatial-vector shape: (2500,)\n"
     ]
    }
   ],
   "source": [
    "print(f\"Signal shape: {signal_generator.signal.shape}\")\n",
    "print(f\"Time-vector shape: {signal_generator.t.shape}\")\n",
    "print(f\"Spatial-vector shape: {signal_generator.x.shape}\")"
   ]
  },
  {
   "cell_type": "code",
   "execution_count": 34,
   "metadata": {},
   "outputs": [
    {
     "data": {
      "text/plain": [
       "7.666435718536377"
      ]
     },
     "execution_count": 34,
     "metadata": {},
     "output_type": "execute_result"
    }
   ],
   "source": [
    "# try numpy first with its straight svd, then try sklearn's randomized_svd function\n",
    "\n",
    "start_time_np = time.time()\n",
    "U, s, V = np.linalg.svd(signal_generator.signal.T, full_matrices=False)  # this signal needs to be tranposed, this switches U with V \n",
    "end_time_np = time.time()\n",
    "\n",
    "elapsed_time_np = end_time_np - start_time_np\n",
    "elapsed_time_np"
   ]
  },
  {
   "cell_type": "markdown",
   "metadata": {},
   "source": [
    "Using scikit-learn randomised SVD"
   ]
  },
  {
   "cell_type": "code",
   "execution_count": 35,
   "metadata": {},
   "outputs": [
    {
     "data": {
      "text/plain": [
       "4.228482961654663"
      ]
     },
     "execution_count": 35,
     "metadata": {},
     "output_type": "execute_result"
    }
   ],
   "source": [
    "start_time_sk = time.time()\n",
    "\n",
    "U2, s2, V2 = randomized_svd(signal_generator.signal.T, n_components=10) # try 10, this should explain most of the variance\n",
    "\n",
    "end_time_sk = time.time()\n",
    "\n",
    "elapsed_time_sk = end_time_sk - start_time_sk\n",
    "elapsed_time_sk"
   ]
  },
  {
   "cell_type": "code",
   "execution_count": 36,
   "metadata": {},
   "outputs": [
    {
     "name": "stdout",
     "output_type": "stream",
     "text": [
      "U (2500, 10)\n",
      "s (10,)\n",
      "V (10, 2000)\n"
     ]
    }
   ],
   "source": [
    "print(f\"U {U2.shape}\")  # spatial\n",
    "print(f\"s {s2.shape}\")  # standard deviation, singular values\n",
    "print(f\"V {V2.shape}\")  # time"
   ]
  },
  {
   "cell_type": "code",
   "execution_count": null,
   "metadata": {},
   "outputs": [],
   "source": []
  }
 ],
 "metadata": {
  "kernelspec": {
   "display_name": "dmd-era5",
   "language": "python",
   "name": "python3"
  },
  "language_info": {
   "codemirror_mode": {
    "name": "ipython",
    "version": 3
   },
   "file_extension": ".py",
   "mimetype": "text/x-python",
   "name": "python",
   "nbconvert_exporter": "python",
   "pygments_lexer": "ipython3",
   "version": "3.12.4"
  }
 },
 "nbformat": 4,
 "nbformat_minor": 2
}
