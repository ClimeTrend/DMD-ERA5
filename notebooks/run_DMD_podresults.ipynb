{
 "cells": [
  {
   "cell_type": "markdown",
   "metadata": {},
   "source": [
    "## Running DMD on ERA5 Data\n",
    "\n",
    "To begin with, we have run Proper Orthogonal Decomposition on the ERA5 dataset on Baskerville. \n",
    "\n",
    "The ERA5 dataset is a global atmospheric reanalysis produced by the European Centre for Medium-Range Weather Forecasts (ECMWF). It provides hourly estimates of a large number of atmospheric, land and oceanic climate variables from 1950 to present. The dataset is available at a resolution of 0.25 degrees.\n",
    "\n",
    "We have subsampled ERA5 into three time series: biweekly (low frequency), daily (mid frequency), hourly (high frequency).\n",
    "\n",
    "#### Biweekly\n",
    "\n",
    "Sampled from January 1960 to January 2020, taking one measurement every 14 days (total of 1566 measurements). \n",
    "\n",
    "#### Daily\n",
    "\n",
    "Sampled from 1st January 2018 to 10th January 2020, taking one measurement every day (total of 740 measurements).\n",
    "\n",
    "#### Hourly\n",
    "\n",
    "Sampled from 1st January 2020 to 10th January 2020, taking one measurement every hour (total of 217 measurements). \n",
    "\n",
    "\n",
    "### Load V Matrix\n",
    "\n",
    "First we load the results of the v matrix from POD. [The code can be found here](https://github.com/ClimeTrend/pyLowOrder/blob/c7440392baf5dd58152dffe1a6266bdf6133818b/Examples/run_POD_surface.py). \n",
    "\n",
    "`PSI,S,V = pyLOM.POD.run(X,remove_mean=True)`\n",
    "\n",
    "PSI are POD modes, S are singular values, V are time coefficients. We will use V to run DMD on the ERA5 dataset.\n"
   ]
  },
  {
   "cell_type": "code",
   "execution_count": 1,
   "metadata": {},
   "outputs": [],
   "source": [
    "%load_ext autoreload\n",
    "%autoreload 2\n",
    "\n",
    "%config InlineBackend.figure_format='svg'\n",
    "\n",
    "import sys\n",
    "# Add parent directory to path\n",
    "sys.path.append('../src/')\n",
    "\n",
    "import numpy as np\n",
    "import matplotlib.pyplot as plt\n",
    "\n",
    "np.set_printoptions(suppress=True, precision=3)\n",
    "\n"
   ]
  },
  {
   "cell_type": "code",
   "execution_count": 4,
   "metadata": {},
   "outputs": [
    {
     "name": "stdout",
     "output_type": "stream",
     "text": [
      "(784, 784)\n"
     ]
    }
   ],
   "source": [
    "# Load biweekly_V.npy\n",
    "biweekly_V = np.load('../data/POD_Results/biweekly_V.npy')\n",
    "\n",
    "print(biweekly_V.shape)\n",
    "\n",
    "# The v matrix has two dimensions, the first is the number of time steps and the second is the number of modes. \n",
    "# The v matrix is square because the number of modes is equal to the number of grid points. \n",
    "\n",
    "\n",
    "\n",
    "\n"
   ]
  }
 ],
 "metadata": {
  "kernelspec": {
   "display_name": "venv",
   "language": "python",
   "name": "python3"
  },
  "language_info": {
   "codemirror_mode": {
    "name": "ipython",
    "version": 3
   },
   "file_extension": ".py",
   "mimetype": "text/x-python",
   "name": "python",
   "nbconvert_exporter": "python",
   "pygments_lexer": "ipython3",
   "version": "3.12.4"
  }
 },
 "nbformat": 4,
 "nbformat_minor": 2
}
